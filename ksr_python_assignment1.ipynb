{
  "nbformat": 4,
  "nbformat_minor": 0,
  "metadata": {
    "colab": {
      "provenance": []
    },
    "kernelspec": {
      "name": "python3",
      "display_name": "Python 3"
    },
    "language_info": {
      "name": "python"
    }
  },
  "cells": [
    {
      "cell_type": "markdown",
      "source": [
        "1.Print \"Hello, World!\"\n",
        "\n",
        "\n",
        "\n",
        "2.Take user input and print it\n",
        "\n",
        "3.Swap two variables\n",
        "\n",
        "4.Check if a number is even or odd\n",
        "\n",
        "5.Find the largest of two numbers"
      ],
      "metadata": {
        "id": "4dYjg0YmNX2D"
      }
    },
    {
      "cell_type": "code",
      "source": [
        "print(\"hello world\")"
      ],
      "metadata": {
        "colab": {
          "base_uri": "https://localhost:8080/"
        },
        "id": "7KyB-2LPOAbe",
        "outputId": "0f59a723-98c9-4b12-d5e4-d1d1c3090fa8"
      },
      "execution_count": null,
      "outputs": [
        {
          "output_type": "stream",
          "name": "stdout",
          "text": [
            "hello world\n"
          ]
        }
      ]
    },
    {
      "cell_type": "code",
      "source": [
        "a=input(\"Any word of your choice\\n\")\n",
        "print(f\"you entered:{a}\")"
      ],
      "metadata": {
        "colab": {
          "base_uri": "https://localhost:8080/"
        },
        "id": "8fkwWJn8OS1-",
        "outputId": "ef5b20a3-6dae-4a05-ef24-c36c56d9494c"
      },
      "execution_count": null,
      "outputs": [
        {
          "output_type": "stream",
          "name": "stdout",
          "text": [
            "Any word of your choice\n",
            "hello\n",
            "you entered:hello\n"
          ]
        }
      ]
    },
    {
      "cell_type": "code",
      "source": [
        "\n",
        "a=1\n",
        "b=2\n",
        "print(f\"a={a},b={b}\")\n",
        "b,a=a,b\n",
        "print(f\"a={a},b={b}\")"
      ],
      "metadata": {
        "colab": {
          "base_uri": "https://localhost:8080/"
        },
        "id": "udfNbyLtOiru",
        "outputId": "da51af2c-9712-4454-d2d9-5bead5e3b3fa"
      },
      "execution_count": null,
      "outputs": [
        {
          "output_type": "stream",
          "name": "stdout",
          "text": [
            "a=1,b=2\n",
            "a=2,b=1\n"
          ]
        }
      ]
    },
    {
      "cell_type": "code",
      "source": [
        "a=input(\"enter a number\\n\")\n",
        "if int(a)%2==0 :\n",
        "  print(\"Even\")\n",
        "else:\n",
        "  print(\"odd\")"
      ],
      "metadata": {
        "colab": {
          "base_uri": "https://localhost:8080/"
        },
        "id": "-xI65LmVOv2h",
        "outputId": "893ab3ec-6c11-40fe-cc4f-27836a60b36b"
      },
      "execution_count": null,
      "outputs": [
        {
          "output_type": "stream",
          "name": "stdout",
          "text": [
            "enter a number\n",
            "2\n",
            "Even\n"
          ]
        }
      ]
    },
    {
      "cell_type": "code",
      "source": [
        "a=int(input(\"enter a\\n\"))\n",
        "b= int(input(\"enter b\\n\"))\n",
        "if a>b:\n",
        "  print(\" a is greater\")\n",
        "elif b>a:\n",
        "  print(\"b is greater\")\n",
        "else:\n",
        "  print(\"both are equal\")"
      ],
      "metadata": {
        "colab": {
          "base_uri": "https://localhost:8080/"
        },
        "id": "63oSNr03PR1E",
        "outputId": "6601281a-badb-4bb3-86cd-5441d375ebe9"
      },
      "execution_count": null,
      "outputs": [
        {
          "output_type": "stream",
          "name": "stdout",
          "text": [
            "enter a\n",
            "2\n",
            "enter b\n",
            "3\n",
            "b is greater\n"
          ]
        }
      ]
    },
    {
      "cell_type": "markdown",
      "source": [
        ".Perform arithmetic operations (+, -, *, /, %, **), take any values as “a” and “b”\n"
      ],
      "metadata": {
        "id": "Y0ll5LH7PzGW"
      }
    },
    {
      "cell_type": "code",
      "source": [
        "a=float(input(\"enter a\\n\"))\n",
        "b= float(input(\"enter b\\n\"))\n",
        "\n",
        "print(f\"sum={a+b}\")\n",
        "print(f\"diff={a-b}\")\n",
        "print(f\"prod={a*b}\")\n",
        "if b !=0:\n",
        "  print(f\"quo={a/b}\")\n",
        "else:\n",
        "  print(\"ininite\")\n",
        "print(f\"mod={a%b}\")\n",
        "print(f\"{a}pow{b}={a**b}\")\n",
        "\n",
        "\n"
      ],
      "metadata": {
        "colab": {
          "base_uri": "https://localhost:8080/"
        },
        "id": "FC3_p7L0P4fU",
        "outputId": "5eca577c-1a80-4f40-9b56-5dc01ae3758e"
      },
      "execution_count": null,
      "outputs": [
        {
          "output_type": "stream",
          "name": "stdout",
          "text": [
            "enter a\n",
            "2\n",
            "enter b\n",
            "3\n",
            "sum=5.0\n",
            "diff=-1.0\n",
            "prod=6.0\n",
            "quo=0.6666666666666666\n",
            "mod=2.0\n",
            "2.0pow3.0=8.0\n"
          ]
        }
      ]
    },
    {
      "cell_type": "markdown",
      "source": [
        "Calculate the square and cube of a number\n"
      ],
      "metadata": {
        "id": "avA4j552Qk2y"
      }
    },
    {
      "cell_type": "code",
      "source": [
        "a=float(input(\"enter the number\\n\"))\n",
        "print(f\"sqaure of {a} is {a**2}\")\n",
        "print(f\"cube of {a} is {a**3}\")"
      ],
      "metadata": {
        "colab": {
          "base_uri": "https://localhost:8080/"
        },
        "id": "Q9DM_WDdQprc",
        "outputId": "79a40121-fd28-44ea-c6d7-105f27ff78ae"
      },
      "execution_count": null,
      "outputs": [
        {
          "output_type": "stream",
          "name": "stdout",
          "text": [
            "enter the number\n",
            "2\n",
            "sqaure of 2.0 is 4.0\n",
            "cube of 2.0 is 8.0\n"
          ]
        }
      ]
    },
    {
      "cell_type": "markdown",
      "source": [
        ".Convert Celsius to Fahrenheit (F = (C * 9/5) + 32)"
      ],
      "metadata": {
        "id": "rkzCeYRzQ5nq"
      }
    },
    {
      "cell_type": "code",
      "source": [
        "c=float(input(\"enter the number \\n\"))\n",
        "print(f\"{c}C={(c*9/5)+32}F\")"
      ],
      "metadata": {
        "colab": {
          "base_uri": "https://localhost:8080/"
        },
        "id": "gw0CP1cdQ82J",
        "outputId": "f1ff7b05-a567-4c54-ace6-28c49d3d51ae"
      },
      "execution_count": null,
      "outputs": [
        {
          "output_type": "stream",
          "name": "stdout",
          "text": [
            "enter the number \n",
            "2\n",
            "2.0C=35.6F\n"
          ]
        }
      ]
    },
    {
      "cell_type": "markdown",
      "source": [
        "Convert kilometers to miles (1 km = 0.621371 miles)\n",
        "\n"
      ],
      "metadata": {
        "id": "4OpEplyRRmTg"
      }
    },
    {
      "cell_type": "code",
      "source": [
        "km=float(input(\"give kms\\n\"))\n",
        "print(f\"{km}km={km*0.621371}miles\")"
      ],
      "metadata": {
        "colab": {
          "base_uri": "https://localhost:8080/"
        },
        "id": "jWchwPWhRqgU",
        "outputId": "04177b9f-a20d-429f-c021-aaff49180aed"
      },
      "execution_count": null,
      "outputs": [
        {
          "output_type": "stream",
          "name": "stdout",
          "text": [
            "give kms\n",
            "100\n",
            "100.0km=62.137100000000004miles\n"
          ]
        }
      ]
    },
    {
      "cell_type": "markdown",
      "source": [
        ".Check if a number is positive, negative, or zero\n"
      ],
      "metadata": {
        "id": "ole3JKQeR-9C"
      }
    },
    {
      "cell_type": "code",
      "source": [
        "a=float(input(\"enter the number\\n\"))\n",
        "if a < 0:\n",
        "  print(\"negative\")\n",
        "elif a >0:\n",
        "  print(\"positive\")\n",
        "else :\n",
        "  print(\"zero\")"
      ],
      "metadata": {
        "colab": {
          "base_uri": "https://localhost:8080/"
        },
        "id": "oZttWkbKSQu7",
        "outputId": "af18063b-95dd-473f-c62f-83c2f6c4b686"
      },
      "execution_count": null,
      "outputs": [
        {
          "output_type": "stream",
          "name": "stdout",
          "text": [
            "enter the number\n",
            "123\n",
            "positive\n"
          ]
        }
      ]
    },
    {
      "cell_type": "markdown",
      "source": [
        "Find the largest of three numbers."
      ],
      "metadata": {
        "id": "IsicjzAPSnBO"
      }
    },
    {
      "cell_type": "code",
      "source": [
        "a=float(input(\"enter num1\"))\n",
        "b=float(input(\"enter num2\"))\n",
        "c=float(input(\"enter num3\"))\n",
        "if a>b and a>c:\n",
        "  print(\"num1 is greater\")\n",
        "elif b> a and b>c:\n",
        "  print(\"num2 is greater\")\n",
        "else:\n",
        "  print(\"num3 is greater\")"
      ],
      "metadata": {
        "colab": {
          "base_uri": "https://localhost:8080/"
        },
        "id": "uj7FE9xySq5g",
        "outputId": "e453456d-9201-434c-d76b-1977c1b0ec8a"
      },
      "execution_count": null,
      "outputs": [
        {
          "output_type": "stream",
          "name": "stdout",
          "text": [
            "enter num133\n",
            "enter num222\n",
            "enter num311\n",
            "num1 is greater\n"
          ]
        }
      ]
    },
    {
      "cell_type": "code",
      "source": [
        "y=int(input(\"enter the year \\n \"))\n",
        "if y % 400 == 0:\n",
        "  print(\"leap year\")\n",
        "elif y% 100 == 0:\n",
        "  print(\"not leap year\")\n",
        "elif y%4==0:\n",
        "  print(\"leap year\")\n",
        "else:\n",
        "  print(\"Not leap year\")"
      ],
      "metadata": {
        "id": "0puMRuZpTYUA",
        "colab": {
          "base_uri": "https://localhost:8080/"
        },
        "outputId": "29068597-1310-480e-ddc1-4cc2d01bcdba"
      },
      "execution_count": null,
      "outputs": [
        {
          "output_type": "stream",
          "name": "stdout",
          "text": [
            "enter the year \n",
            " 2000\n",
            "leap year\n"
          ]
        }
      ]
    },
    {
      "cell_type": "markdown",
      "source": [
        "check vowel"
      ],
      "metadata": {
        "id": "RBmgTMrawHDy"
      }
    },
    {
      "cell_type": "markdown",
      "source": [],
      "metadata": {
        "id": "fL1WrSXSwG85"
      }
    },
    {
      "cell_type": "code",
      "source": [
        "a=input(\"enetr a character\")\n",
        "if a.lower in (\"a\",\"e\",\"i\",\"o\",\"u\"):\n",
        "  print(\"vowel\")\n",
        "else:\n",
        "  print(\"consonant\")"
      ],
      "metadata": {
        "colab": {
          "base_uri": "https://localhost:8080/"
        },
        "id": "rA0gJSkgvi3P",
        "outputId": "76beff36-7904-433f-9e19-42f40dbfa22d"
      },
      "execution_count": null,
      "outputs": [
        {
          "output_type": "stream",
          "name": "stdout",
          "text": [
            "enetr a characterr\n",
            "consonant\n"
          ]
        }
      ]
    },
    {
      "cell_type": "markdown",
      "source": [
        "Write a Python program to assign the grades to each subject based on the grade\n",
        "scale:\n",
        "4.\n",
        "Student subject marks:\n",
        "maths = 85\n",
        "science = 78\n",
        "english = 92\n",
        "Grade scale:\n",
        "A: 90-100\n",
        "B: 80-89\n",
        "C: 70-79\n",
        "D: 60-69\n",
        "E: 50-59\n",
        "F: Below 50"
      ],
      "metadata": {
        "id": "dvt_vhbWw334"
      }
    },
    {
      "cell_type": "code",
      "source": [
        "m=int(input(\"maths marks\"))\n",
        "s=int(input(\"sciene marks\"))\n",
        "e=int(input(\"social marks\"))\n",
        "\n",
        "def grades(i):\n",
        "  if i <50:\n",
        "    return \"F\"\n",
        "  elif i<=59 and i>=90:\n",
        "    return \"E\"\n",
        "  elif i<=69 and i>=60:\n",
        "    return \"D\"\n",
        "  elif i<=79 and i>=70:\n",
        "    return \"C\"\n",
        "  elif i<=89 and i>=80:\n",
        "    return \"C\"\n",
        "  elif i<=100 and i>=90:\n",
        "    return \"A\"\n",
        "\n",
        "print(f\"math grade- {grades(m)}\")\n",
        "print(f\"science grade- {grades(s)}\")\n",
        "print(f\"english grade- {grades(e)}\")"
      ],
      "metadata": {
        "colab": {
          "base_uri": "https://localhost:8080/"
        },
        "id": "Twcw-ySNw28V",
        "outputId": "e05b44b0-98eb-4e71-f41e-54d3ce08118c"
      },
      "execution_count": null,
      "outputs": [
        {
          "output_type": "stream",
          "name": "stdout",
          "text": [
            "maths marks23\n",
            "sciene marks93\n",
            "social marks87\n",
            "math grade- F\n",
            "science grade- A\n",
            "english grade- C\n"
          ]
        }
      ]
    },
    {
      "cell_type": "markdown",
      "source": [
        ".Write a program to check if a number is divisible by both 5 and 11\n"
      ],
      "metadata": {
        "id": "Alc9GMpA1Vgr"
      }
    },
    {
      "cell_type": "code",
      "source": [
        "a=int(input(\"enter a number\"))\n",
        "if a %5 ==0 and a%11==0:\n",
        "  print(\"divisible by both 5 and 11\")\n",
        "else:\n",
        "  print(\"not divisible by 5 and 11\")"
      ],
      "metadata": {
        "colab": {
          "base_uri": "https://localhost:8080/"
        },
        "id": "s9QCRuGK1KMh",
        "outputId": "77fbbe8c-cbcb-4a49-c3f7-4fee31658c29"
      },
      "execution_count": null,
      "outputs": [
        {
          "output_type": "stream",
          "name": "stdout",
          "text": [
            "enter a number55\n",
            "divisible by both 5 and 11\n"
          ]
        }
      ]
    },
    {
      "cell_type": "markdown",
      "source": [
        "1.Print numbers from 1 to the given number N"
      ],
      "metadata": {
        "id": "uArfwJ0O1yEC"
      }
    },
    {
      "cell_type": "code",
      "source": [
        "n= int(input(\"enter the number\\n\"))\n",
        "for i in range(1,n+1):\n",
        "  print(i)"
      ],
      "metadata": {
        "colab": {
          "base_uri": "https://localhost:8080/"
        },
        "id": "QsiGYWEz19O8",
        "outputId": "8e4d99da-40bd-4854-fc53-1f8d54840801"
      },
      "execution_count": null,
      "outputs": [
        {
          "output_type": "stream",
          "name": "stdout",
          "text": [
            "enter the number\n",
            "3\n",
            "1\n",
            "2\n",
            "3\n"
          ]
        }
      ]
    },
    {
      "cell_type": "markdown",
      "source": [
        ".Print even numbers up to the given number N\n"
      ],
      "metadata": {
        "id": "zQroYRFc2gwT"
      }
    },
    {
      "cell_type": "code",
      "source": [
        "n= int(input(\"enter the number\\n\"))\n",
        "for i in range(0,n+1,2):\n",
        "  print(i)"
      ],
      "metadata": {
        "colab": {
          "base_uri": "https://localhost:8080/"
        },
        "id": "vEua7F-l2kmC",
        "outputId": "f07d7b43-6a1b-4a21-ae7d-a9994996e9aa"
      },
      "execution_count": null,
      "outputs": [
        {
          "output_type": "stream",
          "name": "stdout",
          "text": [
            "enter the number\n",
            "12\n",
            "0\n",
            "2\n",
            "4\n",
            "6\n",
            "8\n",
            "10\n",
            "12\n"
          ]
        }
      ]
    },
    {
      "cell_type": "markdown",
      "source": [
        "Sum of first N natural numbers (sum = n * (n+1) / 2)"
      ],
      "metadata": {
        "id": "ymgPuJQ026th"
      }
    },
    {
      "cell_type": "code",
      "source": [
        "m= int(input(\"enter the number\\n\"))\n",
        "sum=0\n",
        "for n in range(1,m+1):\n",
        "  sum+=n\n",
        "\n",
        "print(f\"sum={sum}\")\n",
        "print(f\"calc={int(m*(m+1)/2)}\")"
      ],
      "metadata": {
        "colab": {
          "base_uri": "https://localhost:8080/"
        },
        "id": "8yccRuBh27kE",
        "outputId": "67f5d5dd-c6ac-44cb-c6ae-fa174e27d360"
      },
      "execution_count": null,
      "outputs": [
        {
          "output_type": "stream",
          "name": "stdout",
          "text": [
            "enter the number\n",
            "5\n",
            "sum=15\n",
            "calc=15\n"
          ]
        }
      ]
    },
    {
      "cell_type": "markdown",
      "source": [
        ".Calculate the factorial of a number (n! = n × (n-1) × ... × 1) without using def function"
      ],
      "metadata": {
        "id": "VyUuOps56Oiu"
      }
    },
    {
      "cell_type": "code",
      "source": [
        "m= int(input(\"enter the number\\n\"))\n",
        "fac=1\n",
        "for i in range(m,1,-1):\n",
        "  print(i)\n",
        "  fac*=i\n",
        "print(f\"factorial({m})={fac}\")"
      ],
      "metadata": {
        "colab": {
          "base_uri": "https://localhost:8080/"
        },
        "id": "t0SvYFaK6PW6",
        "outputId": "3cebe240-1d64-483b-b794-89db81489d48"
      },
      "execution_count": null,
      "outputs": [
        {
          "output_type": "stream",
          "name": "stdout",
          "text": [
            "enter the number\n",
            "4\n",
            "4\n",
            "3\n",
            "2\n",
            "factorial(4)=24\n"
          ]
        }
      ]
    },
    {
      "cell_type": "markdown",
      "source": [
        "multiplication Table"
      ],
      "metadata": {
        "id": "9f4S6tnG9f9E"
      }
    },
    {
      "cell_type": "code",
      "source": [
        "m= int(input(\"enter the number\\n\"))\n",
        "for i in range(1,11):\n",
        "  print(f\"{m}*{i}={m*i}\")"
      ],
      "metadata": {
        "colab": {
          "base_uri": "https://localhost:8080/"
        },
        "id": "fJr4Vv4s6rMx",
        "outputId": "16697bb1-e5a2-4ed3-b546-b289d91280e1"
      },
      "execution_count": null,
      "outputs": [
        {
          "output_type": "stream",
          "name": "stdout",
          "text": [
            "enter the number\n",
            "2\n",
            "2*1=2\n",
            "2*2=4\n",
            "2*3=6\n",
            "2*4=8\n",
            "2*5=10\n",
            "2*6=12\n",
            "2*7=14\n",
            "2*8=16\n",
            "2*9=18\n",
            "2*10=20\n"
          ]
        }
      ]
    },
    {
      "cell_type": "markdown",
      "source": [
        "1.Write a program to Reverse a given string (at least 2 ways)\n"
      ],
      "metadata": {
        "id": "zAjkvKAd-nRU"
      }
    },
    {
      "cell_type": "code",
      "source": [
        "strng=input(\"enter string to reverse\\n\")\n",
        "\n",
        "print(\"method 1\")\n",
        "for i in range(len(strng)-1,-1,-1):\n",
        "  print(strng[i],end='')\n",
        "\n",
        "print(f\"\\nmethod 2: {strng[::-1]}\")"
      ],
      "metadata": {
        "colab": {
          "base_uri": "https://localhost:8080/"
        },
        "id": "UlVfaEzq-UTA",
        "outputId": "13872d61-1893-4a56-a4e0-9adbfac65596"
      },
      "execution_count": null,
      "outputs": [
        {
          "output_type": "stream",
          "name": "stdout",
          "text": [
            "enter string to reverse\n",
            "abcd\n",
            "method 1\n",
            "dcba\n",
            "method 2: dcba\n"
          ]
        }
      ]
    },
    {
      "cell_type": "markdown",
      "source": [
        ".Count the number of vowels in a string\n"
      ],
      "metadata": {
        "id": "CUBcn-0M_ocu"
      }
    },
    {
      "cell_type": "code",
      "source": [
        "strng=input(\"enter string \\n\")\n",
        "cnt=0\n",
        "for i in strng:\n",
        "  if i in (\"a\",\"e\",\"i\",\"o\",'u'):\n",
        "    cnt+=1\n",
        "print(f\"no. of vowels={cnt}\")"
      ],
      "metadata": {
        "colab": {
          "base_uri": "https://localhost:8080/"
        },
        "id": "HO2fbTNw_n5E",
        "outputId": "940fa436-d51c-4f86-93e1-79291ac6feef"
      },
      "execution_count": null,
      "outputs": [
        {
          "output_type": "stream",
          "name": "stdout",
          "text": [
            "enter string \n",
            "aeiou\n",
            "no. of vowels=5\n"
          ]
        }
      ]
    },
    {
      "cell_type": "markdown",
      "source": [
        ".Check if a string is a palindrome"
      ],
      "metadata": {
        "id": "9dbjkZ3RAb4O"
      }
    },
    {
      "cell_type": "code",
      "source": [
        "strng=input(\"enter string \\n\")\n",
        "if strng == strng[::-1]:\n",
        "  print(\"palindrome\")\n",
        "\n",
        "else:\n",
        "  print(\"not palindrome\")"
      ],
      "metadata": {
        "colab": {
          "base_uri": "https://localhost:8080/"
        },
        "id": "2eqdVabtAgKj",
        "outputId": "44fb43c3-31e3-4698-99cd-2ec6e0105972"
      },
      "execution_count": null,
      "outputs": [
        {
          "output_type": "stream",
          "name": "stdout",
          "text": [
            "enter string \n",
            "palindrome\n",
            "not palindrome\n"
          ]
        }
      ]
    },
    {
      "cell_type": "markdown",
      "source": [
        "Convert uppercase to lowercase and vice versa"
      ],
      "metadata": {
        "id": "95qs46DQBbdX"
      }
    },
    {
      "cell_type": "code",
      "source": [
        "strng=input(\"enter string \\n\")\n",
        "\n",
        "for i in strng:\n",
        "  if i.isupper():\n",
        "    print(i.lower(),end='')\n",
        "  else:\n",
        "    print(i.upper(),end='')"
      ],
      "metadata": {
        "colab": {
          "base_uri": "https://localhost:8080/"
        },
        "id": "MKQDz6-eBi6E",
        "outputId": "b8af9102-ddb4-49b6-be8e-3eb8b7ab0fe3"
      },
      "execution_count": null,
      "outputs": [
        {
          "output_type": "stream",
          "name": "stdout",
          "text": [
            "enter string \n",
            "AbcD\n",
            "aBCd"
          ]
        }
      ]
    },
    {
      "cell_type": "markdown",
      "source": [
        "Find the length of a string without using len() function"
      ],
      "metadata": {
        "id": "2FyL3lGfCAD0"
      }
    },
    {
      "cell_type": "code",
      "source": [
        "strng=input(\"enter string \\n\")\n",
        "cnt=0\n",
        "for i in strng:\n",
        "  cnt+=1\n",
        "print(f\"str len={cnt}\")"
      ],
      "metadata": {
        "colab": {
          "base_uri": "https://localhost:8080/"
        },
        "id": "DznIyDz7B8HI",
        "outputId": "698e9958-de02-4a5b-d6b1-bb67b57fa275"
      },
      "execution_count": null,
      "outputs": [
        {
          "output_type": "stream",
          "name": "stdout",
          "text": [
            "enter string \n",
            "KSR Datavizon\n",
            "str len=13\n"
          ]
        }
      ]
    },
    {
      "cell_type": "markdown",
      "source": [
        "Find the largest element in a list\n"
      ],
      "metadata": {
        "id": "u93MSOfuCawb"
      }
    },
    {
      "cell_type": "code",
      "source": [
        "ll= list(map(int,input(\"enter array elems  separated by spaces\").split()))\n",
        "\n",
        "max=ll[0]\n",
        "for i in ll:\n",
        "  if max < i:\n",
        "    max=i\n",
        "\n",
        "print(f\"max element={max}\")"
      ],
      "metadata": {
        "colab": {
          "base_uri": "https://localhost:8080/"
        },
        "id": "wyzwAHwxCVrd",
        "outputId": "7f5b2f00-b6c3-4fbb-a703-796fb42ce754"
      },
      "execution_count": null,
      "outputs": [
        {
          "output_type": "stream",
          "name": "stdout",
          "text": [
            "enter array elems  separated by spaces1 2 68 0 5\n",
            "max element=68\n"
          ]
        }
      ]
    },
    {
      "cell_type": "markdown",
      "source": [
        "Find the smallest element in a list"
      ],
      "metadata": {
        "id": "ljbzNuyED2LQ"
      }
    },
    {
      "cell_type": "code",
      "source": [
        "ll= list(map(int,input(\"enter array elems  separated by spaces\").split()))\n",
        "\n",
        "min=ll[0]\n",
        "for i in ll:\n",
        "  if min > i:\n",
        "    min=i\n",
        "\n",
        "print(f\"min element={min}\")"
      ],
      "metadata": {
        "colab": {
          "base_uri": "https://localhost:8080/"
        },
        "id": "XrSmjNeaD5lw",
        "outputId": "f3412aef-f0c6-4548-8022-83ace6db0476"
      },
      "execution_count": null,
      "outputs": [
        {
          "output_type": "stream",
          "name": "stdout",
          "text": [
            "enter array elems  separated by spaces1 2 3 4 5 -9\n",
            "min element=-9\n"
          ]
        }
      ]
    },
    {
      "cell_type": "markdown",
      "source": [
        "3.Find the sum of elements in a list"
      ],
      "metadata": {
        "id": "KrwToISaEEbY"
      }
    },
    {
      "cell_type": "code",
      "source": [
        "ll= list(map(int,input(\"enter array elems  separated by spaces\").split()))\n",
        "sum=0\n",
        "for i in ll:\n",
        "  sum+=i\n",
        "print(f\"sum of array={sum}\")"
      ],
      "metadata": {
        "colab": {
          "base_uri": "https://localhost:8080/"
        },
        "id": "I_KoznkZEH9P",
        "outputId": "cd180dec-84f0-4c1d-f839-ddd75e557b2d"
      },
      "execution_count": null,
      "outputs": [
        {
          "output_type": "stream",
          "name": "stdout",
          "text": [
            "enter array elems  separated by spaces1 1 1 1 \n",
            "sum of array=4\n"
          ]
        }
      ]
    },
    {
      "cell_type": "markdown",
      "source": [
        "Sort a list in ascending order"
      ],
      "metadata": {
        "id": "OonJrE6SElwu"
      }
    },
    {
      "cell_type": "code",
      "source": [
        "ll= list(map(int,input(\"enter array elems  separated by spaces\").split()))\n",
        "sorted=[]\n",
        "for i in range(len(ll)):\n",
        "  for j in range(i,len(ll)):\n",
        "    if ll[i] >ll[j]:\n",
        "      ll[i],ll[j]=ll[j],ll[i]\n",
        "\n",
        "print(ll)"
      ],
      "metadata": {
        "colab": {
          "base_uri": "https://localhost:8080/"
        },
        "id": "JzkgxLDAEp3-",
        "outputId": "81997777-df59-40f7-e076-40174d1d3b46"
      },
      "execution_count": null,
      "outputs": [
        {
          "output_type": "stream",
          "name": "stdout",
          "text": [
            "enter array elems  separated by spaces12 84 93 40 27\n",
            "[12, 27, 40, 84, 93]\n"
          ]
        }
      ]
    },
    {
      "cell_type": "markdown",
      "source": [
        "Remove duplicates from a list"
      ],
      "metadata": {
        "id": "rO42clU6Gbb3"
      }
    },
    {
      "cell_type": "code",
      "source": [
        "ll= list(map(int,input(\"enter array elems  separated by spaces\").split()))\n",
        "ll2=set()\n",
        "for i in ll:\n",
        "  if i not in ll2:\n",
        "    ll2.add(i)\n",
        "print(f\"clean list : {list(ll2)}\")"
      ],
      "metadata": {
        "colab": {
          "base_uri": "https://localhost:8080/"
        },
        "id": "axmKNZuMGMEF",
        "outputId": "91e85a72-740c-4f32-93b0-6ac219e10d26"
      },
      "execution_count": null,
      "outputs": [
        {
          "output_type": "stream",
          "name": "stdout",
          "text": [
            "enter array elems  separated by spaces1 2 3 44 44 5 6\n",
            "clean list : [1, 2, 3, 5, 6, 44]\n"
          ]
        }
      ]
    },
    {
      "cell_type": "markdown",
      "source": [
        "1.Find the maximum and minimum number in a tupleFind the maximum and minimum number in a tuple\n"
      ],
      "metadata": {
        "id": "UmzP-NTzIAbG"
      }
    },
    {
      "cell_type": "code",
      "source": [
        "tup = tuple(map(int,input(\"enter array elems  separated by spaces\").split()))\n",
        "max=tup[0]\n",
        "min=tup[0]\n",
        "for t in tup:\n",
        "  if max < t:\n",
        "    max=t\n",
        "  if min > t:\n",
        "    min =t\n",
        "print(f\"max={max}\\nmin={min}\")"
      ],
      "metadata": {
        "colab": {
          "base_uri": "https://localhost:8080/"
        },
        "id": "3kPicEUXH_rq",
        "outputId": "d1085d36-e06e-4b24-e722-0dbae31dab9d"
      },
      "execution_count": null,
      "outputs": [
        {
          "output_type": "stream",
          "name": "stdout",
          "text": [
            "enter array elems  separated by spaces1 4 6 -9 5\n",
            "max=6\n",
            "min=-9\n"
          ]
        }
      ]
    },
    {
      "cell_type": "markdown",
      "source": [
        "2.Convert a tuple to a list\n"
      ],
      "metadata": {
        "id": "pNNYa4S0JtP0"
      }
    },
    {
      "cell_type": "code",
      "source": [
        "tup = tuple(map(int,input(\"enter array elems  separated by spaces\").split()))\n",
        "print(f\"converted tuple {tup} \\to list = {list(tup)}\")"
      ],
      "metadata": {
        "colab": {
          "base_uri": "https://localhost:8080/"
        },
        "id": "hOWxludKJzGU",
        "outputId": "4df97824-cd8b-448b-f356-ed759c773a8b"
      },
      "execution_count": null,
      "outputs": [
        {
          "output_type": "stream",
          "name": "stdout",
          "text": [
            "enter array elems  separated by spaces1 2 2 3 4 \n",
            "converted tuple (1, 2, 2, 3, 4) to list = [1, 2, 2, 3, 4]\n"
          ]
        }
      ]
    },
    {
      "cell_type": "markdown",
      "source": [
        "3.Count occurrences of an element in a tuple"
      ],
      "metadata": {
        "id": "RzMiCN_5KHwT"
      }
    },
    {
      "cell_type": "code",
      "source": [
        "tup = tuple(map(int,input(\"enter array elems  separated by spaces\").split()))\n",
        "di={}\n",
        "for i in tup:\n",
        "  if i in di.keys():\n",
        "    di[i]=di[i]+1\n",
        "  else:\n",
        "    di[i]=1\n",
        "\n",
        "print(f\"occurances{di}\")\n"
      ],
      "metadata": {
        "colab": {
          "base_uri": "https://localhost:8080/"
        },
        "id": "oK4PzeSWKHYZ",
        "outputId": "33b9d21c-e36a-4fd9-f778-327e0a862825"
      },
      "execution_count": null,
      "outputs": [
        {
          "output_type": "stream",
          "name": "stdout",
          "text": [
            "enter array elems  separated by spaces 1 2 3 4 4 5 6\n",
            "occurances{1: 1, 2: 1, 3: 1, 4: 2, 5: 1, 6: 1}\n"
          ]
        }
      ]
    },
    {
      "cell_type": "markdown",
      "source": [
        "4.Find the index of an element in a tuple"
      ],
      "metadata": {
        "id": "g5O_M69wRkH9"
      }
    },
    {
      "cell_type": "code",
      "source": [
        "tup = tuple(map(int,input(\"enter array elems  separated by spaces\").split()))\n",
        "ele= float(input(\"elemt to find\"))\n",
        "cnt=0\n",
        "for t in tup:\n",
        "  cnt+=1\n",
        "  if t == ele:\n",
        "    break\n",
        "print(f\"index of {ele} is {cnt}\")"
      ],
      "metadata": {
        "colab": {
          "base_uri": "https://localhost:8080/"
        },
        "id": "dpWgCopOL1fx",
        "outputId": "47114075-3724-4197-b753-2c49d2dbb8bf"
      },
      "execution_count": null,
      "outputs": [
        {
          "output_type": "stream",
          "name": "stdout",
          "text": [
            "enter array elems  separated by spaces1 2 4 5 \n",
            "elemt to find1\n",
            "index of 1.0 is 1\n"
          ]
        }
      ]
    },
    {
      "cell_type": "markdown",
      "source": [
        "5.Reverse a tuple\n"
      ],
      "metadata": {
        "id": "X47dSObcb_cd"
      }
    },
    {
      "cell_type": "code",
      "source": [
        "tup = tuple(map(int,input(\"enter array elems  separated by spaces\").split()))\n",
        "rev_tup=tuple(list(tup)[::-1])\n",
        "print(f'rev_tup={rev_tup}')"
      ],
      "metadata": {
        "colab": {
          "base_uri": "https://localhost:8080/"
        },
        "id": "yau9UexqRiCA",
        "outputId": "26c3b256-8869-4b25-f6f4-b53605a3eff7"
      },
      "execution_count": null,
      "outputs": [
        {
          "output_type": "stream",
          "name": "stdout",
          "text": [
            "enter array elems  separated by spaces 1 2 3 4 5\n",
            "rev_tup=(5, 4, 3, 2, 1)\n"
          ]
        }
      ]
    },
    {
      "cell_type": "markdown",
      "source": [
        ".Create empty set\n"
      ],
      "metadata": {
        "id": "zkHhbKZWfo7u"
      }
    },
    {
      "cell_type": "code",
      "source": [
        "se=set()\n",
        "print(type(se))"
      ],
      "metadata": {
        "colab": {
          "base_uri": "https://localhost:8080/"
        },
        "id": "U34PlrRUeZrX",
        "outputId": "9dc97868-c404-48bc-fc02-7b65e103fdf6"
      },
      "execution_count": null,
      "outputs": [
        {
          "output_type": "stream",
          "name": "stdout",
          "text": [
            "<class 'set'>\n"
          ]
        }
      ]
    },
    {
      "cell_type": "markdown",
      "source": [
        "Perform union of two sets\n"
      ],
      "metadata": {
        "id": "ppAKQB-Nfq-U"
      }
    },
    {
      "cell_type": "code",
      "source": [
        "set1=set(map(int,input(\"Enter elements of set 1\").split()))\n",
        "set2=set(map(int,input(\"Enter elements of set 2\").split()))\n",
        "print(f\"union={set1.union(set2)}\")"
      ],
      "metadata": {
        "colab": {
          "base_uri": "https://localhost:8080/"
        },
        "id": "zh4ZtGwBfqHn",
        "outputId": "e0333ba1-b20b-470b-f12c-5a5cc5e16635"
      },
      "execution_count": null,
      "outputs": [
        {
          "output_type": "stream",
          "name": "stdout",
          "text": [
            "Enter elements of set 11 2 3 4 5\n",
            "Enter elements of set 23 4 5 6 7 8\n",
            "union={1, 2, 3, 4, 5, 6, 7, 8}\n"
          ]
        }
      ]
    },
    {
      "cell_type": "markdown",
      "source": [
        ".Perform intersection of two sets"
      ],
      "metadata": {
        "id": "-nNI9zcIjPO0"
      }
    },
    {
      "cell_type": "code",
      "source": [
        "set1=set(map(int,input(\"Enter elements of set 1\").split()))\n",
        "set2=set(map(int,input(\"Enter elements of set 2\").split()))\n",
        "print(f\"union={set1.intersection(set2)}\")"
      ],
      "metadata": {
        "colab": {
          "base_uri": "https://localhost:8080/"
        },
        "id": "s5Kku751jNcd",
        "outputId": "b4f04013-a3ce-4e36-c93f-b9c3c9a8c8ea"
      },
      "execution_count": null,
      "outputs": [
        {
          "output_type": "stream",
          "name": "stdout",
          "text": [
            "Enter elements of set 11 2 3 4 5\n",
            "Enter elements of set 23 4 5 6 7 8\n",
            "union={3, 4, 5}\n"
          ]
        }
      ]
    },
    {
      "cell_type": "markdown",
      "source": [
        "4.Perform difference of two sets"
      ],
      "metadata": {
        "id": "ldXEJPA0jfIZ"
      }
    },
    {
      "cell_type": "code",
      "source": [
        "set1=set(map(int,input(\"Enter elements of set 1\").split()))\n",
        "set2=set(map(int,input(\"Enter elements of set 2\").split()))\n",
        "print(f\"A-B={set1 -set2}\")\n",
        "print(f\"B-A={set2-set1}\")\n"
      ],
      "metadata": {
        "colab": {
          "base_uri": "https://localhost:8080/"
        },
        "id": "LooP6cWvjh63",
        "outputId": "a20e2762-24b9-452e-fc71-82e05344538f"
      },
      "execution_count": null,
      "outputs": [
        {
          "output_type": "stream",
          "name": "stdout",
          "text": [
            "Enter elements of set 11 2 3\n",
            "Enter elements of set 21 2 4\n",
            "A-B={3}\n"
          ]
        }
      ]
    },
    {
      "cell_type": "markdown",
      "source": [
        ".Check if a set is a subset of another"
      ],
      "metadata": {
        "id": "xcpta7-Ij_Xb"
      }
    },
    {
      "cell_type": "code",
      "source": [
        "set1=set(map(int,input(\"Enter elements of set 1\").split()))\n",
        "set2=set(map(int,input(\"Enter elements of set 2\").split()))\n",
        "\n",
        "if set2.issubset(set1):\n",
        "  print(\"set2 is subset of set 1\")\n",
        "\n",
        "else:\n",
        "\n",
        "  print(\"set2 is not subset of set 1\")"
      ],
      "metadata": {
        "colab": {
          "base_uri": "https://localhost:8080/"
        },
        "id": "zOTqoh7jjtOr",
        "outputId": "dc841655-6dc1-447d-954b-93c072859088"
      },
      "execution_count": null,
      "outputs": [
        {
          "output_type": "stream",
          "name": "stdout",
          "text": [
            "Enter elements of set 11 2 3 4 5\n",
            "Enter elements of set 23 4 1\n",
            "set2 is subset of set 1\n"
          ]
        }
      ]
    },
    {
      "cell_type": "markdown",
      "source": [
        ".Remove an element from a set"
      ],
      "metadata": {
        "id": "YY7b022ukh-L"
      }
    },
    {
      "cell_type": "code",
      "source": [
        "set1=set(map(int,input(\"Enter elements of set 1\").split()))\n",
        "ele=int(input(\"enter the element to be removed\"))\n",
        "set1.remove(ele)\n",
        "print(f\"set after removing {ele} - {set1}\")"
      ],
      "metadata": {
        "colab": {
          "base_uri": "https://localhost:8080/"
        },
        "id": "vjVEdDfGkIQh",
        "outputId": "0f2dc261-48e5-49d8-e1a8-6cbcc8d26ae7"
      },
      "execution_count": null,
      "outputs": [
        {
          "output_type": "stream",
          "name": "stdout",
          "text": [
            "Enter elements of set 11 2 3 4 5\n",
            "enter the element to be removed3\n",
            "set after removing 3 - {1, 2, 4, 5}\n"
          ]
        }
      ]
    },
    {
      "cell_type": "markdown",
      "source": [
        "1.Create a dictionary and print keys & values\n"
      ],
      "metadata": {
        "id": "JX226eUQYBEZ"
      }
    },
    {
      "cell_type": "code",
      "source": [
        "di={\"one\":1,\"two\":2,\"three\":3,\"four\":4}\n",
        "for k,v in di.items():\n",
        "  print(f\"key:{k},value:{v}\")"
      ],
      "metadata": {
        "colab": {
          "base_uri": "https://localhost:8080/"
        },
        "id": "m4E7a2FVYGIw",
        "outputId": "52e56b3c-089b-42a8-86de-10634eefa2bc"
      },
      "execution_count": null,
      "outputs": [
        {
          "output_type": "stream",
          "name": "stdout",
          "text": [
            "key:one,value:1\n",
            "key:two,value:2\n",
            "key:three,value:3\n",
            "key:four,value:4\n"
          ]
        }
      ]
    },
    {
      "cell_type": "code",
      "source": [
        "di={\"one\":1,\"two\":2,\"three\":3,\"four\":4}\n",
        "print(f\"sum of values:{sum(di.values())}\")"
      ],
      "metadata": {
        "colab": {
          "base_uri": "https://localhost:8080/"
        },
        "id": "PMevIcz9aJNF",
        "outputId": "2d8c3c2a-1235-4a65-cd84-060cda4c3b8e"
      },
      "execution_count": null,
      "outputs": [
        {
          "output_type": "stream",
          "name": "stdout",
          "text": [
            "sum of values:10\n"
          ]
        }
      ]
    },
    {
      "cell_type": "markdown",
      "source": [
        ".Merge two dictionaries"
      ],
      "metadata": {
        "id": "Z6sokfz9f_PS"
      }
    },
    {
      "cell_type": "code",
      "source": [
        "di={\"one\":1,\"two\":2,\"three\":3,\"four\":4}\n",
        "di2={\"five\":5,\"six\":6,\"seven\":7}\n",
        "print(f\"merged_dict-{di|di2}\")"
      ],
      "metadata": {
        "colab": {
          "base_uri": "https://localhost:8080/"
        },
        "id": "hRMeP3Ilas2E",
        "outputId": "57cbb77e-91c7-4329-db54-01a3c09b7162"
      },
      "execution_count": null,
      "outputs": [
        {
          "output_type": "stream",
          "name": "stdout",
          "text": [
            "merged_dict-{'one': 1, 'two': 2, 'three': 3, 'four': 4, 'five': 5, 'six': 6, 'seven': 7}\n"
          ]
        }
      ]
    },
    {
      "cell_type": "markdown",
      "source": [
        ".Sort a dictionary by its values"
      ],
      "metadata": {
        "id": "223ZvhAJiWPS"
      }
    },
    {
      "cell_type": "code",
      "source": [
        "dict1={'one': 1,'three': 3,'six': 6, 'two': 2,  'four': 4,   'seven': 7 ,'five': 5}\n",
        "dict2={}\n",
        "sorted_list=sorted(dict1.values())\n",
        "for s in sorted_list:\n",
        "  for k,v in dict1.items():\n",
        "    if v==s:\n",
        "      dict2[k]=v\n",
        "\n",
        "print(dict2)"
      ],
      "metadata": {
        "colab": {
          "base_uri": "https://localhost:8080/"
        },
        "id": "GtsMpbOeicZz",
        "outputId": "7d9cc73b-cb78-48a1-a540-45efa69f30b6"
      },
      "execution_count": null,
      "outputs": [
        {
          "output_type": "stream",
          "name": "stdout",
          "text": [
            "{'one': 1, 'two': 2, 'three': 3, 'four': 4, 'five': 5, 'six': 6, 'seven': 7}\n"
          ]
        }
      ]
    },
    {
      "cell_type": "markdown",
      "source": [
        "\n",
        "5.Count the occurrences of elements in a dictionary"
      ],
      "metadata": {
        "id": "zXG49sTT31Hu"
      }
    },
    {
      "cell_type": "code",
      "source": [
        "occur_dict={}\n",
        "valueset=set()\n",
        "dict1={'one': 1,'three': 7,'six': 6 ,'five': 5,'two': 2,  'four': 5,   'seven': 7}\n",
        "for v in dict1.values():\n",
        "\n",
        "\n",
        "  if v in valueset:\n",
        "    occur_dict[v]+=1\n",
        "  else:\n",
        "\n",
        "    occur_dict[v]=1\n",
        "\n",
        "    valueset.add(v)\n",
        "\n",
        "print(occur_dict)"
      ],
      "metadata": {
        "colab": {
          "base_uri": "https://localhost:8080/"
        },
        "id": "-QLMCG8938ZZ",
        "outputId": "ae53a00e-db3f-4b04-bf7c-074bb0e6d278"
      },
      "execution_count": null,
      "outputs": [
        {
          "output_type": "stream",
          "name": "stdout",
          "text": [
            "{1: 1, 7: 2, 6: 1, 5: 2, 2: 1}\n"
          ]
        }
      ]
    },
    {
      "cell_type": "code",
      "source": [
        "dict1={'one': 1,'three': 7,'six': 6 ,'five': 5,'two': 2,  'four': 5,   'seven': 7}\n",
        "occur_dict={}\n",
        "for v in dict1.values():\n",
        "  occur_dict[v]=occur_dict.get(v,0) +1\n",
        "print(occur_dict)"
      ],
      "metadata": {
        "colab": {
          "base_uri": "https://localhost:8080/"
        },
        "id": "fnvPSwPG8VTe",
        "outputId": "3c94a631-4e42-4a85-e727-94593c4deb4d"
      },
      "execution_count": null,
      "outputs": [
        {
          "output_type": "stream",
          "name": "stdout",
          "text": [
            "{1: 1, 7: 2, 6: 1, 5: 2, 2: 1}\n"
          ]
        }
      ]
    },
    {
      "cell_type": "markdown",
      "source": [
        "Check if a number is prime or not"
      ],
      "metadata": {
        "id": "jJ6IAkL48zlF"
      }
    },
    {
      "cell_type": "code",
      "source": [
        "a=int(input(\"enter the number\"))\n",
        "if a==1:\n",
        "  print(\"neither prime nor composite\")\n",
        "if a ==2 or a==3:\n",
        "  print(\"prime\")\n",
        "elif a %2 == 0:\n",
        "  print(\"composite\")\n",
        "else:\n",
        "  flag=0\n",
        "  for i in range(3,int(a**0.5)+1,2):\n",
        "    if a%i == 0:\n",
        "      flag=1\n",
        "      break\n",
        "  if flag == 1:\n",
        "    print(\"composite\")\n",
        "  else:\n",
        "    print(\"prime\")\n"
      ],
      "metadata": {
        "colab": {
          "base_uri": "https://localhost:8080/"
        },
        "id": "hDXCXlDD845c",
        "outputId": "e390679a-bd19-4d01-c3b8-7066e4dbf57c"
      },
      "execution_count": null,
      "outputs": [
        {
          "output_type": "stream",
          "name": "stdout",
          "text": [
            "enter the number5\n",
            "prime\n"
          ]
        }
      ]
    },
    {
      "cell_type": "code",
      "source": [
        "n=int(input(\"enter thr number\"))\n",
        "sum=0\n",
        "while n > 0:\n",
        "  a=n%10\n",
        "  sum+=a\n",
        "  n=n//10\n",
        "print(sum)"
      ],
      "metadata": {
        "colab": {
          "base_uri": "https://localhost:8080/"
        },
        "id": "IqzB1wHJ-ckn",
        "outputId": "0140fbab-32bf-47b7-887a-f3d40fab0fd6"
      },
      "execution_count": null,
      "outputs": [
        {
          "output_type": "stream",
          "name": "stdout",
          "text": [
            "enter thr number123345\n",
            "18\n"
          ]
        }
      ]
    },
    {
      "cell_type": "markdown",
      "source": [
        "GCD and LCM"
      ],
      "metadata": {
        "id": "hlor--EPg7rD"
      }
    },
    {
      "cell_type": "code",
      "source": [
        "\n",
        "a=int(input(\"enter a\"))\n",
        "a2=a\n",
        "\n",
        "b=int(input(\"enter b\"))\n",
        "b2=b\n",
        "while b!=0:\n",
        "  a,b=b,a%b\n",
        "\n",
        "print(\"gcd\",a)\n",
        "print(f\"LCM={(a2*b2)//(a)}\")"
      ],
      "metadata": {
        "colab": {
          "base_uri": "https://localhost:8080/"
        },
        "id": "gu04wx5MJpQ7",
        "outputId": "03ee23e5-9050-48f9-b90e-6a3846d01a76"
      },
      "execution_count": null,
      "outputs": [
        {
          "output_type": "stream",
          "name": "stdout",
          "text": [
            "enter a48\n",
            "enter b18\n",
            "gcd 6\n",
            "LCM=144\n"
          ]
        }
      ]
    },
    {
      "cell_type": "markdown",
      "source": [
        "1.Define a function to find the sum of two numbers\n"
      ],
      "metadata": {
        "id": "pRDwS37Yjnkq"
      }
    },
    {
      "cell_type": "code",
      "source": [
        "def num_sum(a,b):\n",
        "  return(a+b)\n",
        "\n",
        "a=float((input(\"enter a\")))\n",
        "b=float(input(\"Enter b \"))\n",
        "print(f\"sum={num_sum(a,b)}\")"
      ],
      "metadata": {
        "colab": {
          "base_uri": "https://localhost:8080/"
        },
        "id": "Dn8w5aOTcs8K",
        "outputId": "195392f5-6b74-4839-b79a-81323156273a"
      },
      "execution_count": null,
      "outputs": [
        {
          "output_type": "stream",
          "name": "stdout",
          "text": [
            "enter a2\n",
            "Enter b 4\n",
            "sum=6.0\n"
          ]
        }
      ]
    },
    {
      "cell_type": "markdown",
      "source": [
        ".Define a function to return the square of a number"
      ],
      "metadata": {
        "id": "P54mSfX1ofby"
      }
    },
    {
      "cell_type": "code",
      "source": [
        "def sq(a):\n",
        "  return a**2\n",
        "a=float(input('enter the number'))\n",
        "print(f\"sqaure of {a}={sq(a)}\")"
      ],
      "metadata": {
        "id": "g675um1Coh1i",
        "colab": {
          "base_uri": "https://localhost:8080/"
        },
        "outputId": "34561160-81dd-4cf0-d550-158b79fe2abc"
      },
      "execution_count": null,
      "outputs": [
        {
          "output_type": "stream",
          "name": "stdout",
          "text": [
            "enter the number5\n",
            "sqaure of 5.0=25.0\n"
          ]
        }
      ]
    },
    {
      "cell_type": "markdown",
      "source": [
        "Define a function with default arguments"
      ],
      "metadata": {
        "id": "fPI0yCp4vgNe"
      }
    },
    {
      "cell_type": "code",
      "source": [
        "def sum(a=1,b=1):\n",
        "  return a+b\n",
        "a=float(input('enter a'))\n",
        "b=float(input('enter b'))\n",
        "print(f\"sum with args{a},{b}:{sum(a,b)}\")\n",
        "print(f\"sum without args:{sum()}\")"
      ],
      "metadata": {
        "colab": {
          "base_uri": "https://localhost:8080/"
        },
        "id": "Q_3dUGr_nh5H",
        "outputId": "6f3469a7-9fa5-4e8a-b09e-a2c97ba98590"
      },
      "execution_count": null,
      "outputs": [
        {
          "output_type": "stream",
          "name": "stdout",
          "text": [
            "enter a1\n",
            "enter b2\n",
            "sum with args1.0,2.0:3.0\n",
            "sum without args:2\n"
          ]
        }
      ]
    },
    {
      "cell_type": "markdown",
      "source": [
        "Define a function with default arguments"
      ],
      "metadata": {
        "id": "MvYxRCXQxMJQ"
      }
    },
    {
      "cell_type": "code",
      "source": [
        "def sum(*args):\n",
        "  sum=0\n",
        "  if len(args)> 1:\n",
        "\n",
        "    for i in range(len(args)):\n",
        "      sum+=args[i]\n",
        "    return sum\n",
        "  return args[0]\n",
        "\n",
        "  sum(1,2,3)\n",
        "print(sum(1,2,3,4))"
      ],
      "metadata": {
        "colab": {
          "base_uri": "https://localhost:8080/"
        },
        "id": "pvoyPtD1xFkh",
        "outputId": "ce1ab5fa-32b9-474a-8e77-2ca6a25dfd54"
      },
      "execution_count": null,
      "outputs": [
        {
          "output_type": "stream",
          "name": "stdout",
          "text": [
            "10\n"
          ]
        }
      ]
    },
    {
      "cell_type": "markdown",
      "source": [
        ".Define a function that returns multiple values"
      ],
      "metadata": {
        "id": "IJ00vH4BKW9F"
      }
    },
    {
      "cell_type": "code",
      "source": [
        "def square_cube(a):\n",
        "  return a**2,a**3\n",
        "\n",
        "a=float(input('enter the number'))\n",
        "print(f\"square({a}):{square_cube(a)[0]}, cube({a}):{square_cube(a)[1]}\")"
      ],
      "metadata": {
        "colab": {
          "base_uri": "https://localhost:8080/"
        },
        "id": "G-4hH1o7KXZg",
        "outputId": "e93f8e2c-c5bb-4c77-a388-fc21b2045839"
      },
      "execution_count": null,
      "outputs": [
        {
          "output_type": "stream",
          "name": "stdout",
          "text": [
            "enter the number2\n",
            "square(2.0):4.0, cube(2.0):8.0\n"
          ]
        }
      ]
    },
    {
      "cell_type": "markdown",
      "source": [
        "1.Use a lambda function to add two numbers"
      ],
      "metadata": {
        "id": "wI1M6yRZUbqJ"
      }
    },
    {
      "cell_type": "code",
      "source": [
        "a=float(input(\"enter a\"))\n",
        "b=float(input(\"enter b\"))\n",
        "sum=lambda a,b: a+b\n",
        "print(sum(a,b))"
      ],
      "metadata": {
        "colab": {
          "base_uri": "https://localhost:8080/"
        },
        "id": "_JNcyvdVUgor",
        "outputId": "57d9089b-b6bf-435d-eada-1e28f891fbe9"
      },
      "execution_count": null,
      "outputs": [
        {
          "output_type": "stream",
          "name": "stdout",
          "text": [
            "3\n"
          ]
        }
      ]
    },
    {
      "cell_type": "markdown",
      "source": [
        "Use a lambda function to find the maximum of two numbers"
      ],
      "metadata": {
        "id": "q3bqFjvFWM7o"
      }
    },
    {
      "cell_type": "code",
      "source": [
        "a=float(input(\"enter a\"))\n",
        "b=float(input(\"enter b\"))\n",
        "max=lambda a,b : a if a>b else b\n",
        "print(f\"max={max(a,b)}\")"
      ],
      "metadata": {
        "colab": {
          "base_uri": "https://localhost:8080/"
        },
        "id": "KZDsRPT6WUqG",
        "outputId": "4ab71888-c5a1-4b9b-fc45-07ec0625c2c3"
      },
      "execution_count": null,
      "outputs": [
        {
          "output_type": "stream",
          "name": "stdout",
          "text": [
            "enter a1\n",
            "enter b2\n",
            "max=2.0\n"
          ]
        }
      ]
    },
    {
      "cell_type": "markdown",
      "source": [
        "4.Use a lambda function inside map()"
      ],
      "metadata": {
        "id": "RznR1v3Jl_R2"
      }
    },
    {
      "cell_type": "code",
      "source": [
        "#square\n",
        "ll=list(map(int,input(\"enter the numbers\").split()))\n",
        "square= list(map(lambda x : x**2,ll))\n",
        "print(f\"square({ll})={square}\")"
      ],
      "metadata": {
        "colab": {
          "base_uri": "https://localhost:8080/"
        },
        "id": "WUfzpk6kWpUC",
        "outputId": "bf0abfc9-10fc-448d-bc24-60ed1c161c87"
      },
      "execution_count": 23,
      "outputs": [
        {
          "output_type": "stream",
          "name": "stdout",
          "text": [
            "enter the numbers1 2 3 4  6 \n",
            "square([1, 2, 3, 4, 6])=[1, 4, 9, 16, 36]\n"
          ]
        }
      ]
    },
    {
      "cell_type": "markdown",
      "source": [
        "filter"
      ],
      "metadata": {
        "id": "d3KyAmwOv6of"
      }
    },
    {
      "cell_type": "code",
      "source": [
        "#get only even numbers\n",
        "ll=list(map(int,input(\"enter the numbers\").split()))\n",
        "even_list = list(filter((lambda x : x if x%2==0 else None),ll))\n",
        "print(f\"{even_list}\")"
      ],
      "metadata": {
        "colab": {
          "base_uri": "https://localhost:8080/"
        },
        "id": "h_JteJKLv86G",
        "outputId": "87dc7693-01b6-4cc7-d567-abd5748c072b"
      },
      "execution_count": 26,
      "outputs": [
        {
          "output_type": "stream",
          "name": "stdout",
          "text": [
            "enter the numbers1 2 3 4 5 6\n",
            "[2, 4, 6]\n"
          ]
        }
      ]
    },
    {
      "cell_type": "markdown",
      "source": [
        "1.Generate a list of squares using list comprehension\n"
      ],
      "metadata": {
        "id": "gTJfA16PxNJx"
      }
    },
    {
      "cell_type": "code",
      "source": [
        "ll=list(map(int,input(\"enter the numbers\").split()))\n",
        "print(f\"square of {ll}={[ i**2 for i in ll]}\")"
      ],
      "metadata": {
        "colab": {
          "base_uri": "https://localhost:8080/"
        },
        "id": "3DFebGNbxerj",
        "outputId": "afd5a211-9f22-4657-fba8-c34ef66c5dd2"
      },
      "execution_count": 27,
      "outputs": [
        {
          "output_type": "stream",
          "name": "stdout",
          "text": [
            "enter the numbers1 2 3 4 \n",
            "square of [1, 2, 3, 4]=[1, 4, 9, 16]\n"
          ]
        }
      ]
    },
    {
      "cell_type": "markdown",
      "source": [
        "Generate a list of even numbers using list comprehension"
      ],
      "metadata": {
        "id": "P0i4hZjFyHJM"
      }
    },
    {
      "cell_type": "code",
      "source": [
        "n=int(input(\"Enter th number\"))\n",
        "print(f\"even number list {[i for i in  range(0,n+1,2)]}\")"
      ],
      "metadata": {
        "colab": {
          "base_uri": "https://localhost:8080/"
        },
        "id": "n5_4PGwxyJVc",
        "outputId": "992895aa-9e37-4e3f-a087-ac407e350190"
      },
      "execution_count": 28,
      "outputs": [
        {
          "output_type": "stream",
          "name": "stdout",
          "text": [
            "Enter th number3\n",
            "even number list [0, 2]\n"
          ]
        }
      ]
    },
    {
      "cell_type": "markdown",
      "source": [
        "Reverse a list using list comprehension\n"
      ],
      "metadata": {
        "id": "5LilgDnryzLE"
      }
    },
    {
      "cell_type": "code",
      "source": [
        "ll=list(map(int,input(\"enter the numbers\").split()))\n",
        "print(f\"reverse list={[ll[i] for i in range(len(ll)-1,-1,-1)]}\")"
      ],
      "metadata": {
        "colab": {
          "base_uri": "https://localhost:8080/"
        },
        "id": "zwtd_jWiyrNC",
        "outputId": "ba309b86-3d65-4487-a480-060c7f3d5018"
      },
      "execution_count": 32,
      "outputs": [
        {
          "output_type": "stream",
          "name": "stdout",
          "text": [
            "enter the numbers1 2 3 4 5\n",
            "reverse list=[5, 4, 3, 2, 1]\n"
          ]
        }
      ]
    },
    {
      "cell_type": "markdown",
      "source": [
        "4.Flatten a nested list using list comprehension"
      ],
      "metadata": {
        "id": "gb5jOB9KziL9"
      }
    },
    {
      "cell_type": "code",
      "source": [
        "row,column=int(input(\"rows\")),int(input(\"columns\"))\n",
        "ll=[list(map(int,input(f\"enter in row {i+1}\").split())) for i in range(row)]\n",
        "print(ll)\n",
        "print(f\"flattened list:{[ll[i][j] for i in range(row) for j in range(column) ]}\")"
      ],
      "metadata": {
        "colab": {
          "base_uri": "https://localhost:8080/"
        },
        "id": "9N-9E8o6zFxi",
        "outputId": "23ccaa2f-3fe3-47cc-c985-6739645acfb9"
      },
      "execution_count": 5,
      "outputs": [
        {
          "output_type": "stream",
          "name": "stdout",
          "text": [
            "rows2\n",
            "columns3\n",
            "enter in row 11 2 3\n",
            "enter in row 24 5 6\n",
            "[[1, 2, 3], [4, 5, 6]]\n",
            "flattened list:[1, 2, 3, 4, 5, 6]\n"
          ]
        }
      ]
    },
    {
      "cell_type": "markdown",
      "source": [
        ".Find common elements in two lists using list comprehension\n"
      ],
      "metadata": {
        "id": "RKN1l4sQdqXh"
      }
    },
    {
      "cell_type": "code",
      "source": [
        "ll1=list(map(int,input('list 1\\n').split()))\n",
        "ll2=list(map(int,input('list 2\\n').split()))\n",
        "\n",
        "print(f\"common elements:{[i for i in ll1 if i in ll2]}\")"
      ],
      "metadata": {
        "colab": {
          "base_uri": "https://localhost:8080/"
        },
        "id": "RtrblS5dcIh6",
        "outputId": "8f953b69-96d8-45ba-ee48-700cad81fbf0"
      },
      "execution_count": 9,
      "outputs": [
        {
          "output_type": "stream",
          "name": "stdout",
          "text": [
            "list 1\n",
            "1 2 3 4\n",
            "list 2\n",
            "3 4 5 6\n",
            "common elements:[3, 4]\n"
          ]
        }
      ]
    },
    {
      "cell_type": "markdown",
      "source": [
        "Swap two numbers without using a third variable"
      ],
      "metadata": {
        "id": "7IMTG1bHfKU8"
      }
    },
    {
      "cell_type": "code",
      "source": [
        "a=float(input('enter num1'))\n",
        "b= float(input('enter num2'))\n",
        "print(f\"before swap num1:{a},num2:{b}\")\n",
        "a,b=b,a\n",
        "print(f\"after swap num1:{a},num2:{b}\")\n"
      ],
      "metadata": {
        "colab": {
          "base_uri": "https://localhost:8080/"
        },
        "id": "k1sA1Zk_fK2U",
        "outputId": "2c1e8bf2-802a-4d37-8baa-2a150cccac0e"
      },
      "execution_count": 10,
      "outputs": [
        {
          "output_type": "stream",
          "name": "stdout",
          "text": [
            "enter num11\n",
            "enter num22\n",
            "before swap num1:1.0,num2:2.0\n",
            "after swap num1:2.0,num2:1.0\n"
          ]
        }
      ]
    },
    {
      "cell_type": "code",
      "source": [
        "a=float(input('enter num1'))\n",
        "b= float(input('enter num2'))\n",
        "print(a,b)\n",
        "a=a+b\n",
        "b=a-b2\n",
        "\n",
        "a=a-b\n",
        "print(a,b)"
      ],
      "metadata": {
        "colab": {
          "base_uri": "https://localhost:8080/"
        },
        "id": "wmZPGjZgf_Lm",
        "outputId": "d3ffe7b0-7f30-40ee-c366-c21c6b5940ef"
      },
      "execution_count": 12,
      "outputs": [
        {
          "output_type": "stream",
          "name": "stdout",
          "text": [
            "enter num11\n",
            "enter num22\n",
            "1.0 2.0\n",
            "2.0 1.0\n"
          ]
        }
      ]
    },
    {
      "cell_type": "markdown",
      "source": [
        "Count occurrences of each word in a sentence\n"
      ],
      "metadata": {
        "id": "VgllMoJSgeGw"
      }
    },
    {
      "cell_type": "code",
      "source": [
        "sent=input(\"enter a sentence\")\n",
        "dict1={}\n",
        "for s in sent.split(\" \"):\n",
        "  dict1[s]=dict1.get(s,0)+1\n",
        "print(dict1)"
      ],
      "metadata": {
        "colab": {
          "base_uri": "https://localhost:8080/"
        },
        "id": "Cb8BYZx8gimz",
        "outputId": "bb9dcec7-453e-4368-e34c-406d9afa708c"
      },
      "execution_count": 18,
      "outputs": [
        {
          "output_type": "stream",
          "name": "stdout",
          "text": [
            "enter a sentenceksr ksr datavizon\n",
            "{'ksr': 2, 'datavizon': 1}\n"
          ]
        }
      ]
    },
    {
      "cell_type": "markdown",
      "source": [
        "Find the second largest number in a list\n"
      ],
      "metadata": {
        "id": "k8ktNn8ZiW72"
      }
    },
    {
      "cell_type": "code",
      "source": [
        "ll=list(set(map(int,input(\"enter elements\").split())))\n",
        "for i in range(len(ll)):\n",
        "  for j in range(i+1,len(ll)):\n",
        "    if ll[i] < ll[j]:\n",
        "      ll[i],ll[j]=ll[j],ll[i]\n",
        "print(f\"second max={ll[1]}\")"
      ],
      "metadata": {
        "colab": {
          "base_uri": "https://localhost:8080/"
        },
        "id": "0wEzYeytg-XR",
        "outputId": "35747f82-311c-446a-8233-e3a87a5b5403"
      },
      "execution_count": 21,
      "outputs": [
        {
          "output_type": "stream",
          "name": "stdout",
          "text": [
            "enter elements1 2 3 4 5 5\n",
            "second max=4\n"
          ]
        }
      ]
    },
    {
      "cell_type": "markdown",
      "source": [
        "Check if two strings are anagrams"
      ],
      "metadata": {
        "id": "GlgqJ6ySjccg"
      }
    },
    {
      "cell_type": "code",
      "source": [
        "str1=input(\"str1\")\n",
        "str2=input(\"str2\")\n",
        "def chk_angram(str1,str2):\n",
        "  ll=list(str1)+list(str2)\n",
        "  dict1={}\n",
        "  for l in ll:\n",
        "    dict1[l]=dict1.get(l,0)+1\n",
        "  for v in dict1.values():\n",
        "    if v%2 !=0:\n",
        "      print(\"not anagram\")\n",
        "      return\n",
        "  print(\"anagram\")\n",
        "chk_angram(str1,str2)"
      ],
      "metadata": {
        "colab": {
          "base_uri": "https://localhost:8080/"
        },
        "id": "AIBAa4lcjxqX",
        "outputId": "14a76a40-2687-4d09-ba44-6861a5b3deeb"
      },
      "execution_count": 3,
      "outputs": [
        {
          "output_type": "stream",
          "name": "stdout",
          "text": [
            "str1apple\n",
            "str2pale\n",
            "not anagram\n"
          ]
        }
      ]
    },
    {
      "cell_type": "markdown",
      "source": [
        "Pascal's Triangle"
      ],
      "metadata": {
        "id": "1aDFjCXWmQEX"
      }
    },
    {
      "cell_type": "code",
      "source": [
        "n=3\n",
        "arr=[0,1,0]\n",
        "arr2d=[]\n",
        "arr2d.append(arr[1:-1])\n",
        "for j in range(n-1):\n",
        "  temp_array=[]\n",
        "  temp_array.append(0)\n",
        "  for i in range(1,len(arr)):\n",
        "    temp_array.append(arr[i-1]+arr[i])\n",
        "  temp_array.append(0)\n",
        "  arr2d.append(temp_array[1:-1])\n",
        "  arr=temp_array\n",
        "\n",
        "for a in arr2d:\n",
        "  for j in a:\n",
        "    print(j,end='')\n",
        "  print()"
      ],
      "metadata": {
        "colab": {
          "base_uri": "https://localhost:8080/"
        },
        "id": "e_H5ihdBoSD2",
        "outputId": "0a73586a-ea7a-4915-e3e4-d8d6794bc709"
      },
      "execution_count": 26,
      "outputs": [
        {
          "output_type": "stream",
          "name": "stdout",
          "text": [
            "1\n",
            "11\n",
            "121\n"
          ]
        }
      ]
    },
    {
      "cell_type": "markdown",
      "source": [
        "\\"
      ],
      "metadata": {
        "id": "M0zdXCiDoQ-U"
      }
    },
    {
      "cell_type": "markdown",
      "source": [],
      "metadata": {
        "id": "5U3ULfwFmO9O"
      }
    }
  ]
}